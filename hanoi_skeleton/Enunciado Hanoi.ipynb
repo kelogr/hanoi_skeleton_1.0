{
 "cells": [
  {
   "cell_type": "code",
   "execution_count": null,
   "metadata": {},
   "outputs": [],
   "source": [
    "# Hanoi Towers Game #\n"
   ]
  },
  {
   "cell_type": "markdown",
   "metadata": {},
   "source": [
    "### Preface ###"
   ]
  },
  {
   "cell_type": "markdown",
   "metadata": {},
   "source": [
    "According to the legend of the Tower of Hanoi, the temple priests are to transfer a tower consisting of 64 fragile disks of gold from one part of the temple to another, one disk at a time. The disks are arranged in order, no two of them the same size, with the largest on the bottom and the smallest on top. Because of their fragility, a larger disk may never be placed on a smaller one, and there is only one intermediate location where disks can be temporarily placed. It is said that before the priests complete their task the temple will crumble into dust and the world will vanish in a clap of thunder.\n",
    "\n",
    "If the legend were true, and if the priests were able to move disks at a rate of one per second, using the smallest number of moves it would take them 2<sup>64</sup> − 1 seconds or roughly 585 billion years to finish, which is about 42 times the current age of the Universe.\n",
    "\n",
    "But really it is just a game invented by the French mathematician Édouard Lucas in 1883.\n",
    "\n",
    "It is really useful algorithmically though! The recursive solution of the problem is exponential, so if we solve it for N disks, the number of moves required is 2<sup>N</sup> − 1 (Wait for EDA2 for more information on computational costs). Try numbers such as 30 with your solution, and see how \"fast\" it finishes."
   ]
  },
  {
   "cell_type": "markdown",
   "metadata": {},
   "source": [
    "### Introduction ###"
   ]
  },
  {
   "cell_type": "markdown",
   "metadata": {},
   "source": [
    "\n",
    "The Hanoi Towers game is played with three towers and a number of disks of different sizes, which can slide onto any towers. \n",
    "\n",
    "The game starts with the disks stacked in one of the towers (origin) in ascending order: the smallest disk is at the top, while the largest is at the bottom. The goal of the game is to move the entire stack to another tower (target) using a third tower as auxiliary.\n",
    "\n",
    "The game needs to follow these simple rules:\n",
    "\n",
    "1. Only one disk can be moved at a time.\n",
    "2. Each move consists of taking the upper disk from one of the stacks and placing it on top of another stack or on an empty tower.\n",
    "3. No larger disk may be placed on top of a smaller disk.\n",
    "\n",
    "\n",
    "[This](http://cs.armstrong.edu/liang/animation/web/TowerOfHanoi.html) link shows an animation where the optimal solution for the game is shown.\n",
    "\n",
    "The problem is inherently recursive. Given a tower with n disks, the solution is the following:\n",
    "1. Move all discs except the bottom one from the origin tower to the auxiliary tower.\n",
    "1. Move the largest disk from the origin tower to the target tower.\n",
    "1. Move the rest of disks from the auxiliary to the target tower.\n",
    "\n",
    "\n",
    "+ The header of the main hanoi function looks like this:\n",
    "<code>hanoi(n_disks, origin, target, auxiliar)</code>\n",
    "+ The base case of this recursive problem is when there is only one disk in the tower. In that case, the program just moves the disk from the specified origin to its target.\n",
    "+ The recursive case of the algorithm can be expressed as follows:\n",
    "<code>\n",
    "hanoi(n-1, origin, auxiliar, target) # Moves n-1 disks from the origin to the auxiliar tower\n",
    "move(origin, target) # Move the largest disk to the target\n",
    "hanoi(n-1, auxiliar, target, origin) # Move n-1 disks from the auxiliar to the target\n",
    "</code>\n",
    "\n",
    "<center><img height=\"400\" width=\"400\" src=\"https://www.includehelp.com/data-structure-tutorial/images/tower-of-hanoi-1.png\"/></center>"
   ]
  },
  {
   "cell_type": "markdown",
   "metadata": {},
   "source": [
    "## Functionalities ##"
   ]
  },
  {
   "cell_type": "markdown",
   "metadata": {},
   "source": [
    "You will be provided with a code skeleton, with the classes required to solve the task. \n",
    "These are the classes that you will find and their purpose:\n",
    "\n",
    "+ hanoi -> Main class that manages the data structures and the disk movement.\n",
    "+ tower -> Data structure that represents a tower.\n",
    "+ state -> Data structure that represents the state of the game.\n",
    "+ hanoi_exception -> Exception that needs to be raised when a game-related error appears.\n",
    "\n",
    "The following functionalities need to be implemented:\n",
    "1. <b>Given a number of disks, automatically find the optimal solution.</b>\n",
    "2. <b>Store the state of the game in memory.</b>\n",
    "> The game needs to store a state for every move that is performed. When showing the optimal solution, each state needs to be identified by its index, the recursive depth in which this state is in, the last move that was performed and the disks per tower. The state can be stored in several ways: having the required information to then generate the graphical representation or directly storing the graphical representation.\n",
    "3. <b>Represent a state graphically.</b>\n",
    "\n",
    "To show how a state looks like, a representation of it needs to be generated. A state needs to look like this:\n",
    "\n",
    "<code>\n",
    "Move id 4 Rec Depth 1\n",
    "Last move: 3 Disk, from 1 to 3\n",
    "...|... ...|... ...|... \n",
    "...|... ..#|#.. ...|... \n",
    "...|... .##|##. ###|### \n",
    "Tower 1 Tower 2 Tower 3 \n",
    "</code>\n",
    "\n",
    "Towers are called Tower 1,2 and 3. The first line shows the Move id (the order of the move, is it the first? second, 15th?) and the recursive depth. The second line explains the last move, in this case, Disk 3 was moved from tower 1 to tower 3. The rest of the representation are the three towers. The disks are represented using the character \"#\", having N \"#\"s at each side of the tower depending on disk number, e.g: disk 2 will be represented as ##|##. The tower rod is represented using a pipe (\"|\") at each height. Each empty space is a dot (\".\") and a whitespace is present between towers. The final line prints the tower names.\n",
    "\n",
    "Just to be clear. The state <b>NEEDS TO LOOK EXACTLY LIKE THIS </b>. The height and width of the representation will depend on the number of disks. Automatic tests will check if the representation is exactly like this, so be careful with how a state is printed.\n",
    "\n",
    "4. <b>Show the Optimal Solution</b>\n",
    "> The solution that is produced by the recursive algorithm needs to store all the states in memory and when the user wants to see it, every state needs to be printed.\n",
    "\n",
    "5. <b>Manually play the game.</b>\n",
    "> The user needs to be able to play until he/she gives up or completes the game. At each step, the system needs to be able to show the current state of the game and to know if the game is over or not. If an illegal move is done, the system needs to raise a HanoiException.\n",
    "\n",
    "6. <b>Raise HanoiExceptions whenever an illegal move, a bad initialization, or a forbidden operation is done. </b>\n",
    "> Keep in mind that when a user is playing, he/she can attempt forbidden moves. <b>ALSO KEEP IN MIND THAT AUTOMATIC TESTS WILL TRY TO PERFORM FORBIDDEN OPERATIONS</b>\n",
    "\n"
   ]
  },
  {
   "cell_type": "markdown",
   "metadata": {},
   "source": [
    "## Submission Instructions ##"
   ]
  },
  {
   "cell_type": "markdown",
   "metadata": {},
   "source": [
    "The assignment needs to be done in groups of 3.\n",
    "The submission is composed of the code and a report. This submission needs to be done in the Aula Global.\n",
    "\n",
    "The report needs to explain the following:\n",
    "\n",
    "* Code and function structure: This does not mean to put screenshots like there is no tomorrow. If you need to show some of the most relevant code, do so, but remember that the key here is to EXPLAIN what your code does, the auxiliary methods that you defined, and the class attributes that you found necessary to solve the assignment.\n",
    "* Difficulties that arised\n",
    "* Task distribution among members of the group: To get an idea on how you planned/distributed your work. \n",
    "\n",
    "Submit the report in PDF format.\n",
    "\n",
    "The deadline for the submission will be published in the Aula Global."
   ]
  },
  {
   "cell_type": "markdown",
   "metadata": {},
   "source": [
    "## Tests ##"
   ]
  },
  {
   "cell_type": "markdown",
   "metadata": {},
   "source": [
    "The assignment will be marked using automatic tests. Some of these tests are provided as an example so you can test your code and see if you pass them. \n",
    "\n",
    "To pass these tests, it is really important that you do not change any function names, because these tests will call these functions and check what happened. You can define as many new functions as you like, but use and dont change the provided functions of the skeleton.\n",
    "\n",
    "Note that many other private tests will be passed as well, so your code should pass every public test at the time of submission (and keep in mind that the private tests will test your code more thoroughly). Also keep in mind, that every class will be tested separately, so even if a case won't ever happen in the game, it should be considered and treated (see e.g., test number 1). \n",
    "\n",
    "<b>ADVICE: When developing your code, keep a close eye on these tests, as they might give you valuable hints to write your code correctly.</b>\n",
    "\n",
    "The following tests are provided as public:"
   ]
  },
  {
   "cell_type": "code",
   "execution_count": 5,
   "metadata": {},
   "outputs": [],
   "source": [
    "#Execute this before moving on to the other ones\n",
    "from hanoi.hanoi import HanoiGame\n",
    "from hanoi.hanoi_exception import HanoiException\n",
    "from hanoi.tower import Tower"
   ]
  },
  {
   "cell_type": "code",
   "execution_count": 6,
   "metadata": {},
   "outputs": [],
   "source": [
    "#       TEST NUMBER 1\n",
    "\n",
    "#You should always control this sort of cases. Never trust a user with your code, it will break.\n",
    "try:\n",
    "    hanoiGame = HanoiGame(-1)\n",
    "    assert(False)\n",
    "    \n",
    "except HanoiException:\n",
    "    pass"
   ]
  },
  {
   "cell_type": "code",
   "execution_count": 7,
   "metadata": {},
   "outputs": [],
   "source": [
    "#       TEST NUMBER 2\n",
    "\n",
    "hanoi_game = HanoiGame(3)\n",
    "hanoi_game.move(0, 2)\n",
    "hanoi_game.move(0, 1)\n",
    "assert(hanoi_game.is_finished() == False)"
   ]
  },
  {
   "cell_type": "code",
   "execution_count": 8,
   "metadata": {},
   "outputs": [],
   "source": [
    "#       TEST NUMBER 3\n",
    "\n",
    "hanoi_game = HanoiGame(3)\n",
    "try:\n",
    "    hanoi_game.move(2, 1)\n",
    "    assert(False)\n",
    "    \n",
    "except HanoiException:\n",
    "    pass"
   ]
  },
  {
   "cell_type": "code",
   "execution_count": 9,
   "metadata": {},
   "outputs": [],
   "source": [
    "#       TEST NUMBER 4\n",
    "\n",
    "#Something is really wrong if this test is not working\n",
    "tower = Tower()\n",
    "assert(tower.is_empty() == True)"
   ]
  },
  {
   "cell_type": "code",
   "execution_count": 10,
   "metadata": {},
   "outputs": [],
   "source": [
    "#       TEST NUMBER 5\n",
    "\n",
    "tower = Tower()\n",
    "tower.push_disc(2)\n",
    "assert(tower.pop_disc() == 2)\n",
    "assert(tower.is_empty() == True)"
   ]
  },
  {
   "cell_type": "code",
   "execution_count": 11,
   "metadata": {},
   "outputs": [],
   "source": [
    "#       TEST NUMBER 6\n",
    "\n",
    "#Initial state plus 2^n - 1 states with moves\n",
    "hanoi_game = HanoiGame(10)\n",
    "assert(hanoi_game.get_n_states() == 1024)"
   ]
  },
  {
   "cell_type": "code",
   "execution_count": 12,
   "metadata": {},
   "outputs": [],
   "source": [
    "#       TEST NUMBER 7\n",
    "\n",
    "#You need to be able to retrieve the state of a tower in a state, to see the number of elements that are there\n",
    "hanoi_game = HanoiGame(3)\n",
    "state = hanoi_game.get_state(5)\n",
    "\n",
    "assert(sum(1 for element in state.get_tower(0) if element != 0) == 1)\n",
    "assert(sum(1 for element in state.get_tower(1) if element != 0) == 1)\n",
    "assert(sum(1 for element in state.get_tower(2) if element != 0) == 1)"
   ]
  },
  {
   "cell_type": "code",
   "execution_count": 13,
   "metadata": {},
   "outputs": [],
   "source": [
    "#       TEST NUMBER 8\n",
    "\n",
    "tower = Tower()\n",
    "try:\n",
    "    tower.pop_disc()\n",
    "    assert(False)\n",
    "    \n",
    "except HanoiException:\n",
    "    pass"
   ]
  },
  {
   "cell_type": "code",
   "execution_count": 14,
   "metadata": {},
   "outputs": [],
   "source": [
    "#       TEST NUMBER 9\n",
    "\n",
    "tower = Tower()\n",
    "tower.push_disc(3)\n",
    "assert(tower.pop_disc() == 3)"
   ]
  },
  {
   "cell_type": "code",
   "execution_count": 15,
   "metadata": {},
   "outputs": [],
   "source": [
    "#       TEST NUMBER 10\n",
    "\n",
    "#Note that we are accessing the first state. No moves have been done yet, So no header or last move line needs to be present\n",
    "expected =\"\"\"\n",
    "....#|#.... .....|..... .....|..... \n",
    "...##|##... .....|..... .....|..... \n",
    "..###|###.. .....|..... .....|..... \n",
    ".####|####. .....|..... .....|..... \n",
    "#####|##### .....|..... .....|..... \n",
    "  Tower 1     Tower 2     Tower 3   \n",
    "\"\"\"\n",
    "\n",
    "hanoi_game = HanoiGame(5)\n",
    "state = hanoi_game.get_state(0)\n",
    "assert(expected == str(state))"
   ]
  },
  {
   "cell_type": "code",
   "execution_count": 16,
   "metadata": {},
   "outputs": [],
   "source": [
    "#       TEST NUMBER 11\n",
    "\n",
    "#Show a standard state from the optimal solution\n",
    "expected = \"\"\"\n",
    "Move id 7 Rec Depth 3\n",
    "Last move: 1 Disk, from 1 to 3\n",
    "...|... ...|... ..#|#.. \n",
    "...|... ...|... .##|##. \n",
    "...|... ...|... ###|### \n",
    "Tower 1 Tower 2 Tower 3 \n",
    "\"\"\"\n",
    "hanoi_game = HanoiGame(3)\n",
    "state = hanoi_game.get_state(7)\n",
    "\n",
    "assert(expected == str(state))"
   ]
  },
  {
   "cell_type": "code",
   "execution_count": 17,
   "metadata": {},
   "outputs": [],
   "source": [
    "#       TEST NUMBER 12\n",
    "\n",
    "#Show the current state, when playing manually\n",
    "hanoi_game = HanoiGame(3)\n",
    "hanoi_game.move(0, 2)\n",
    "hanoi_game.move(0, 1)\n",
    "\n",
    "state = hanoi_game.get_current_state()\n",
    "\n",
    "expected = \"\"\"\n",
    "...|... ...|... ...|... \n",
    "...|... ...|... ...|... \n",
    "###|### .##|##. ..#|#.. \n",
    "Tower 1 Tower 2 Tower 3 \n",
    "\"\"\"\n",
    "assert(expected == str(state))"
   ]
  }
 ],
 "metadata": {
  "kernelspec": {
   "display_name": "Python 3",
   "language": "python",
   "name": "python3"
  },
  "language_info": {
   "codemirror_mode": {
    "name": "ipython",
    "version": 3
   },
   "file_extension": ".py",
   "mimetype": "text/x-python",
   "name": "python",
   "nbconvert_exporter": "python",
   "pygments_lexer": "ipython3",
   "version": "3.7.0"
  }
 },
 "nbformat": 4,
 "nbformat_minor": 2
}
